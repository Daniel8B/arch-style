{
  "nbformat": 4,
  "nbformat_minor": 0,
  "metadata": {
    "colab": {
      "provenance": [],
      "authorship_tag": "ABX9TyM5oSweuSknpMBUq2rG4Ic/",
      "include_colab_link": true
    },
    "kernelspec": {
      "name": "python3",
      "display_name": "Python 3"
    },
    "language_info": {
      "name": "python"
    },
    "accelerator": "GPU",
    "gpuClass": "standard"
  },
  "cells": [
    {
      "cell_type": "markdown",
      "metadata": {
        "id": "view-in-github",
        "colab_type": "text"
      },
      "source": [
        "<a href=\"https://colab.research.google.com/github/Daniel8B/arch-style/blob/main/ArchStyleApp_test.ipynb\" target=\"_parent\"><img src=\"https://colab.research.google.com/assets/colab-badge.svg\" alt=\"Open In Colab\"/></a>"
      ]
    },
    {
      "cell_type": "code",
      "source": [
        "from fastai.vision.all import *\n",
        "from fastai.vision.widgets import *"
      ],
      "metadata": {
        "id": "wB1T0dBN7uJ7"
      },
      "execution_count": null,
      "outputs": []
    },
    {
      "cell_type": "code",
      "source": [
        "path = Path()\n",
        "learn_inf = load_learner(path/'export.pkl', cpu=True)"
      ],
      "metadata": {
        "id": "zcO3A9oIdZ07"
      },
      "execution_count": null,
      "outputs": []
    },
    {
      "cell_type": "markdown",
      "source": [
        "This has returned three things: \n",
        "* the predicted category in the same format you originally provided (in this case that's a string)\n",
        "* the index of the predicted category\n",
        "* the probabilities of each category. \n",
        "\n",
        "The last two are based on the order of categories in the `vocab` of the DataLoaders; that is, the stored list of all possible categories."
      ],
      "metadata": {
        "id": "kE1-JGPeeIbG"
      }
    },
    {
      "cell_type": "code",
      "source": [
        "learn_inf.dls.vocab # index 1 which referts to 'modernist'"
      ],
      "metadata": {
        "id": "zVrV9wRHeSDr"
      },
      "execution_count": null,
      "outputs": []
    },
    {
      "cell_type": "markdown",
      "source": [
        "To create a working web app using only Jupyter notebooks we only need:\n",
        "* IPython widgets (ipywidgets) - IPython widgets are GUI components that bring together JavaScript and Python functionality in a web browser, and can be created and used within a Jupyter notebook. For instance, the image cleaner that we saw earlier in this chapter is entirely written with IPython widgets. **However, we don't want to require users of our application to run Jupyter themselves.**\n",
        "\n",
        "* Voilà - That is why Voilà exists. It is a system for making applications consisting of IPython widgets available to end users, without them having to use Jupyter at all. Voilà is taking advantage of the fact that a notebook already is a kind of web application, just a rather complex one that depends on another web application: Jupyter itself. Essentially, it helps us automatically convert the complex web application we've already implicitly made (the notebook) into a simpler, easier-to-deploy web application, which functions like a normal web application rather than like a notebook.\n",
        "\n",
        "But we still have the advantage of developing in a notebook, so with ipywidgets, we can build up our GUI step by step. We will use this approach to create a simple image classifier. First, we need a file upload widget:"
      ],
      "metadata": {
        "id": "K6rlSvuHemwD"
      }
    },
    {
      "cell_type": "code",
      "source": [
        "# File uploader widget\n",
        "btn_upload = widgets.FileUpload()\n",
        "btn_upload # the location of the uploaded file/s in memory"
      ],
      "metadata": {
        "id": "6HZe93VwetTi"
      },
      "execution_count": null,
      "outputs": []
    },
    {
      "cell_type": "code",
      "source": [
        "# Convert the uploaded image from bytes to PILImage\n",
        "img = PILImage.create(btn_upload.data[-1])"
      ],
      "metadata": {
        "id": "PsUCkJLI0d4w"
      },
      "execution_count": null,
      "outputs": []
    },
    {
      "cell_type": "code",
      "source": [
        "# Display the image with Output widget\n",
        "out_pl = widgets.Output()\n",
        "out_pl.clear_output()\n",
        "with out_pl: display(img.to_thumb(128,128))\n",
        "out_pl"
      ],
      "metadata": {
        "id": "A5IpFBfb0mgn"
      },
      "execution_count": null,
      "outputs": []
    },
    {
      "cell_type": "code",
      "source": [
        "\"\"\"Since I couldn't use the `predict` function below with the PILImage, the workaround\n",
        "I found was by saving the image from memory into Colab\"\"\"\n",
        "\n",
        "from PIL import Image\n",
        "    \n",
        "for name, file_info in btn_upload.value.items():\n",
        "    img = Image.open(io.BytesIO(file_info['content']))# open the image from bytes\n",
        "        \n",
        "img.save(name) # save the image as \"jpeg\" on Colab"
      ],
      "metadata": {
        "id": "9Md7peDC0s8e"
      },
      "execution_count": null,
      "outputs": []
    },
    {
      "cell_type": "code",
      "source": [
        "# Make prediction, save index, save probability of prediction\n",
        "pred,pred_idx,probs = learn_inf.predict(f\"/content/{name}\")"
      ],
      "metadata": {
        "id": "e9WvX9Xn1IYm"
      },
      "execution_count": null,
      "outputs": []
    },
    {
      "cell_type": "code",
      "source": [
        "#use `Label` to display the prediction and its probability\n",
        "lbl_pred = widgets.Label()\n",
        "lbl_pred.value = f'Prediction: {pred}; Probability: {probs[pred_idx]:.04f}'\n",
        "lbl_pred"
      ],
      "metadata": {
        "id": "SxulRZrR1cOm"
      },
      "execution_count": null,
      "outputs": []
    },
    {
      "cell_type": "code",
      "source": [
        "# Button to initialize the classification after uploading an image\n",
        "btn_run = widgets.Button(description='Classify')\n",
        "btn_run"
      ],
      "metadata": {
        "id": "pP-JpMr-1q1A"
      },
      "execution_count": null,
      "outputs": []
    },
    {
      "cell_type": "code",
      "source": [
        "\"\"\"We'll also need a click event handler; that is, a function that will be called when it's pressed.\"\"\"\n",
        "\n",
        "def on_click_classify(change):\n",
        "    img = PILImage.create(btn_upload.data[-1])\n",
        "    out_pl.clear_output()\n",
        "    with out_pl: display(img.to_thumb(128,128))\n",
        "    pred,pred_idx,probs = learn_inf.predict(f\"/content/{name}\")\n",
        "    lbl_pred.value = f'Prediction: {pred}; Probability: {probs[pred_idx]:.04f}'\n",
        "\n",
        "btn_run.on_click(on_click_classify)"
      ],
      "metadata": {
        "id": "hR7YuHs22ENr"
      },
      "execution_count": null,
      "outputs": []
    },
    {
      "cell_type": "code",
      "source": [
        "#Putting back btn_upload to a widget for next cell\n",
        "btn_upload = widgets.FileUpload()"
      ],
      "metadata": {
        "id": "qlYhQRy1k-BL"
      },
      "execution_count": null,
      "outputs": []
    },
    {
      "cell_type": "code",
      "source": [
        "VBox([widgets.Label('Select your style!'), \n",
        "      btn_upload, btn_run, out_pl, lbl_pred])"
      ],
      "metadata": {
        "id": "5zfcj_ZelDGA"
      },
      "execution_count": null,
      "outputs": []
    }
  ]
}
